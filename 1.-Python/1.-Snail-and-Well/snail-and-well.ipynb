{
 "cells": [
  {
   "cell_type": "markdown",
   "metadata": {},
   "source": [
    "<img src=\"https://bit.ly/2VnXWr2\" width=\"100\" align=\"left\">"
   ]
  },
  {
   "cell_type": "markdown",
   "metadata": {},
   "source": [
    "# The Snail and the Well\n",
    "\n",
    "A snail falls at the bottom of a 125 cm well. Each day the snail rises 30 cm. But at night, while sleeping, slides 20 cm because the walls are wet. How many days does it take for the snail to escape the well?\n",
    "\n",
    "**Hint**: The snail gets out of the well when it surpasses the 125cm of height.\n",
    "\n",
    "## Tools\n",
    "\n",
    "1. Loop: **while**\n",
    "2. Conditional statements: **if-else**\n",
    "3. Function: **print()**\n",
    "\n",
    "## Tasks\n",
    "\n",
    "#### 1. Assign the challenge data to variables with representative names: `well_height`, `daily_distance`, `nightly_distance` and `snail_position`."
   ]
  },
  {
   "cell_type": "code",
   "execution_count": 2,
   "metadata": {},
   "outputs": [],
   "source": [
    "well_height=125\n",
    "daily_distance=30\n",
    "nightly_distance=20\n",
    "snail_position= 0"
   ]
  },
  {
   "cell_type": "markdown",
   "metadata": {},
   "source": [
    "#### 2. Create a variable `days` to keep count of the days that pass until the snail escapes the well. "
   ]
  },
  {
   "cell_type": "code",
   "execution_count": 3,
   "metadata": {},
   "outputs": [],
   "source": [
    "days=0\n"
   ]
  },
  {
   "cell_type": "markdown",
   "metadata": {},
   "source": [
    "#### 3. Find the solution to the challenge using the variables defined above. "
   ]
  },
  {
   "cell_type": "code",
   "execution_count": 17,
   "metadata": {},
   "outputs": [
    {
     "name": "stdout",
     "output_type": "stream",
     "text": [
      "el caracol lleva en el pozo : 1 días\n",
      "Cm recorridos:  10\n",
      "el caracol lleva en el pozo : 2 días\n",
      "Cm recorridos:  20\n",
      "el caracol lleva en el pozo : 3 días\n",
      "Cm recorridos:  30\n",
      "el caracol lleva en el pozo : 4 días\n",
      "Cm recorridos:  40\n",
      "el caracol lleva en el pozo : 5 días\n",
      "Cm recorridos:  50\n",
      "el caracol lleva en el pozo : 6 días\n",
      "Cm recorridos:  60\n",
      "el caracol lleva en el pozo : 7 días\n",
      "Cm recorridos:  70\n",
      "el caracol lleva en el pozo : 8 días\n",
      "Cm recorridos:  80\n",
      "el caracol lleva en el pozo : 9 días\n",
      "Cm recorridos:  90\n",
      "el caracol lleva en el pozo : 10 días\n",
      "Cm recorridos:  100\n",
      "el caracol lleva en el pozo : 11 días\n",
      "Cm recorridos:  110\n",
      "el caracol lleva en el pozo : 12 días\n",
      "Cm recorridos:  120\n",
      "el caracol lleva en el pozo : 13 días\n",
      "Cm recorridos:  130\n",
      " El caracol ha escapado en 13 días\n"
     ]
    }
   ],
   "source": [
    "well_height = 125\n",
    "daily_distance = 30\n",
    "nightly_distance = -20\n",
    "snailHasNotEscaped = True\n",
    "days = 0\n",
    "snail_position = 0\n",
    "\n",
    "cmPerWholeDay = daily_distance  + nightly_distance\n",
    "\n",
    "while snailHasNotEscaped:\n",
    "   snail_position += cmPerWholeDay\n",
    "   days += 1\n",
    "   snail_position += 0\n",
    "   print(\"el caracol lleva en el pozo :\", days, \"días\")\n",
    "   print(\"Cm recorridos: \", snail_position,)\n",
    "    \n",
    "   if snail_position >= well_height:\n",
    "      snailHasNotEscaped = False\n",
    "\n",
    "print(\" El caracol ha escapado en\", days, \"días\")\n",
    "\n",
    " \n"
   ]
  },
  {
   "cell_type": "markdown",
   "metadata": {},
   "source": [
    "#### 4. Print the solution."
   ]
  },
  {
   "cell_type": "code",
   "execution_count": 18,
   "metadata": {},
   "outputs": [
    {
     "name": "stdout",
     "output_type": "stream",
     "text": [
      " El caracol ha escapado en 13 días\n"
     ]
    }
   ],
   "source": [
    "print(\" El caracol ha escapado en\", days, \"días\")"
   ]
  },
  {
   "cell_type": "markdown",
   "metadata": {},
   "source": [
    "## Bonus\n",
    "The distance traveled by the snail each day is now defined by a list.\n",
    "```\n",
    "advance_cm = [30, 21, 33, 77, 44, 45, 23, 45, 12, 34, 55]\n",
    "```\n",
    "On the first day, the snail rises 30cm but during the night it slides 20cm. On the second day, the snail rises 21cm but during the night it slides 20cm, and so on. \n",
    "\n",
    "#### 1. How many days does it take for the snail to escape the well?\n",
    "Follow the same guidelines as in the previous challenge.\n",
    "\n",
    "**Hint**: Remember that the snail gets out of the well when it surpasses the 125cm of height."
   ]
  },
  {
   "cell_type": "code",
   "execution_count": 37,
   "metadata": {},
   "outputs": [
    {
     "name": "stdout",
     "output_type": "stream",
     "text": [
      "días que tardó en escapar: 4 días\n",
      "max distancia en un día= 77 cm\n",
      "min distancia en un día= 12 cm\n",
      "distancia medía al día= 38.09090909090909\n",
      "desviación estandar en cm= 17.996969441850734\n"
     ]
    }
   ],
   "source": [
    "well_height = 125\n",
    "\n",
    "daily_distance = 30\n",
    "\n",
    "nightly_distance = -20\n",
    "\n",
    "\n",
    "advance_cm = [30, 21, 33, 77, 44, 45, 23, 45, 12, 34, 55]\n",
    "\n",
    "\n",
    "totalcms = 0\n",
    "\n",
    "days=0\n",
    "count=0\n",
    "\n",
    "snailhasnotescaped = True\n",
    "while snailhasnotescaped:\n",
    "    totalcms += advance_cm[count]\n",
    "    if totalcms >= well_height:\n",
    "        snailhasnotescaped = False\n",
    "        break\n",
    "\n",
    "    days += 1\n",
    "\n",
    "    totalcms += night_retreat\n",
    "    if totalcms >= well_height:\n",
    "        snailhasnotescaped = False\n",
    "        break\n",
    "    count+=1\n",
    "\n",
    "\n",
    "\n",
    "print(\"días que tardó en escapar:\" ,days, \"días\")\n",
    "\n",
    "print(\"max distancia en un día=\",max(advance_cm),\"cm\")\n",
    "print(\"min distancia en un día=\",min(advance_cm),\"cm\")\n",
    "print(\"distancia medía al día=\",mean(advance_cm))\n",
    "print(\"desviación estandar en cm=\",stdev(advance_cm))"
   ]
  },
  {
   "cell_type": "markdown",
   "metadata": {},
   "source": [
    "#### 2. What is its maximum displacement in one day? And its minimum? Calculate the displacement using only the travel distance of the days used to get out of the well. \n",
    "**Hint**: Remember that displacement means the total distance risen taking into account that the snail slides at night.  "
   ]
  },
  {
   "cell_type": "code",
   "execution_count": null,
   "metadata": {},
   "outputs": [],
   "source": [
    "max distancia en un día= 77 cm\n",
    "min distancia en un día= 12 cm"
   ]
  },
  {
   "cell_type": "markdown",
   "metadata": {},
   "source": [
    "#### 3. What is its average progress? Take into account the snail slides at night."
   ]
  },
  {
   "cell_type": "code",
   "execution_count": null,
   "metadata": {},
   "outputs": [],
   "source": [
    "distancia medía al día= 38.09090909090909 cm"
   ]
  },
  {
   "cell_type": "markdown",
   "metadata": {},
   "source": [
    "#### 4. What is the standard deviation of its displacement? Take into account the snail slides at night."
   ]
  },
  {
   "cell_type": "code",
   "execution_count": null,
   "metadata": {},
   "outputs": [],
   "source": [
    "desviación estandar en cm= 17.996969441850734\n"
   ]
  }
 ],
 "metadata": {
  "kernelspec": {
   "display_name": "Python 3",
   "language": "python",
   "name": "python3"
  },
  "language_info": {
   "codemirror_mode": {
    "name": "ipython",
    "version": 3
   },
   "file_extension": ".py",
   "mimetype": "text/x-python",
   "name": "python",
   "nbconvert_exporter": "python",
   "pygments_lexer": "ipython3",
   "version": "3.7.3"
  }
 },
 "nbformat": 4,
 "nbformat_minor": 2
}
